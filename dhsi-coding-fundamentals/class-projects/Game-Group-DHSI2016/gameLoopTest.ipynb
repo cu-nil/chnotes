{
 "cells": [
  {
   "cell_type": "markdown",
   "metadata": {},
   "source": [
    "Going to try to recreate the infinite loop error from earlier today.  Turns out that the dictionary was the problem but we couldn't see this until we had a third episode.  It never gets to main or the while loop.  Python just calls each episode as it read the dictionary.  Not really helpful."
   ]
  },
  {
   "cell_type": "code",
   "execution_count": 2,
   "metadata": {
    "collapsed": false
   },
   "outputs": [
    {
     "ename": "TypeError",
     "evalue": "'dict' object is not callable",
     "output_type": "error",
     "traceback": [
      "\u001b[0;31m---------------------------------------------------------------------------\u001b[0m",
      "\u001b[0;31mTypeError\u001b[0m                                 Traceback (most recent call last)",
      "\u001b[0;32m<ipython-input-2-ff725722886e>\u001b[0m in \u001b[0;36m<module>\u001b[0;34m()\u001b[0m\n\u001b[1;32m     34\u001b[0m \u001b[0;31m#episode = 1\u001b[0m\u001b[0;34m\u001b[0m\u001b[0;34m\u001b[0m\u001b[0m\n\u001b[1;32m     35\u001b[0m \u001b[0;34m\u001b[0m\u001b[0m\n\u001b[0;32m---> 36\u001b[0;31m \u001b[0mepisodeDict\u001b[0m\u001b[0;34m(\u001b[0m\u001b[0;36m2\u001b[0m\u001b[0;34m)\u001b[0m\u001b[0;34m\u001b[0m\u001b[0m\n\u001b[0m\u001b[1;32m     37\u001b[0m \u001b[0;31m#episodeDict(1)\u001b[0m\u001b[0;34m\u001b[0m\u001b[0;34m\u001b[0m\u001b[0m\n\u001b[1;32m     38\u001b[0m \u001b[0;31m#episodeDict(3)\u001b[0m\u001b[0;34m\u001b[0m\u001b[0;34m\u001b[0m\u001b[0m\n",
      "\u001b[0;31mTypeError\u001b[0m: 'dict' object is not callable"
     ]
    }
   ],
   "source": [
    "def episode1():\n",
    "    print(\"Welcome to Episode 1\")\n",
    "    print(episode)\n",
    "    answer = None\n",
    "    while answer not in ['y','n']:\n",
    "        answer = input('Y/N: ').lower()\n",
    "        if answer == 'y':\n",
    "            return 1\n",
    "        elif answer == 'n':\n",
    "            return 2\n",
    "\n",
    "def episode2():\n",
    "    print(\"Welcome to Episode 2\")\n",
    "    print(episode)\n",
    "    answer = None\n",
    "    while answer not in ['y','n']:\n",
    "        answer = input('Y/N: ').lower()\n",
    "        if answer == 'y':\n",
    "            return 1\n",
    "        elif answer == 'n':\n",
    "            return 3\n",
    "\n",
    "def episode3():\n",
    "    print(\"Welcome to THE END\")\n",
    "    print(episode)\n",
    "\n",
    "episodeDict = {1:episode1,2:episode2,3:episode3}\n",
    "    \n",
    "def main(episode):\n",
    "    print(\"The episode is now: \", episode, \"and of type \", type(episode), flush=True)\n",
    "    episode = episodeDict(episode)\n",
    "    print(\"The episode is now: \", episode, \"and of type \", type(episode), flush=True)\n",
    "\n",
    "#episode = 1\n",
    "\n",
    "episodeDict(2)\n",
    "#episodeDict(1)\n",
    "#episodeDict(3)\n",
    "\n",
    "#while episode is not None:\n",
    "#    episodeDict(episode)"
   ]
  },
  {
   "cell_type": "markdown",
   "metadata": {},
   "source": [
    "Here's another way to create a dictionary of functions that works (from https://drj11.wordpress.com/2009/07/03/python-dictionary-of-functions/).  Ok, it doesn't quite work as it should..."
   ]
  },
  {
   "cell_type": "code",
   "execution_count": 22,
   "metadata": {
    "collapsed": false
   },
   "outputs": [
    {
     "name": "stdout",
     "output_type": "stream",
     "text": [
      "<class 'type'> <class 'mappingproxy'> <class 'mappingproxy'>\n"
     ]
    },
    {
     "ename": "TypeError",
     "evalue": "'mappingproxy' object is not callable",
     "output_type": "error",
     "traceback": [
      "\u001b[0;31m---------------------------------------------------------------------------\u001b[0m",
      "\u001b[0;31mTypeError\u001b[0m                                 Traceback (most recent call last)",
      "\u001b[0;32m<ipython-input-22-c646636d2522>\u001b[0m in \u001b[0;36m<module>\u001b[0;34m()\u001b[0m\n\u001b[1;32m     32\u001b[0m \u001b[0;34m\u001b[0m\u001b[0m\n\u001b[1;32m     33\u001b[0m \u001b[0;32mwhile\u001b[0m \u001b[0mepisode\u001b[0m \u001b[0;32mis\u001b[0m \u001b[0;32mnot\u001b[0m \u001b[0;32mNone\u001b[0m\u001b[0;34m:\u001b[0m\u001b[0;34m\u001b[0m\u001b[0m\n\u001b[0;32m---> 34\u001b[0;31m     \u001b[0mepisode\u001b[0m\u001b[0;34m=\u001b[0m\u001b[0mepisodeDict\u001b[0m\u001b[0;34m(\u001b[0m\u001b[0mepisode\u001b[0m\u001b[0;34m)\u001b[0m\u001b[0;34m\u001b[0m\u001b[0m\n\u001b[0m\u001b[1;32m     35\u001b[0m \u001b[0;34m\u001b[0m\u001b[0m\n",
      "\u001b[0;31mTypeError\u001b[0m: 'mappingproxy' object is not callable"
     ]
    }
   ],
   "source": [
    "class foo():\n",
    "    def episode1():\n",
    "        print(\"Welcome to Episode 1\")\n",
    "        print(episode)\n",
    "        answer = None\n",
    "        while answer not in ['y','n']:\n",
    "            answer = input('Y/N: ').lower()\n",
    "            if answer == 'y':\n",
    "                return 1\n",
    "            elif answer == 'n':\n",
    "                return 2\n",
    "\n",
    "    def episode2():\n",
    "        print(\"Welcome to Episode 2\")\n",
    "        print(episode)\n",
    "        answer = None\n",
    "        while answer not in ['y','n']:\n",
    "            answer = input('Y/N: ').lower()\n",
    "            if answer == 'y':\n",
    "                return 1\n",
    "            elif answer == 'n':\n",
    "                return 3\n",
    "\n",
    "    def episode3():\n",
    "        print(\"Welcome to THE END\")\n",
    "        print(episode)\n",
    "episodeDict = foo.__dict__\n",
    "print(type(foo),type(foo.__dict__),type(episodeDict))\n",
    "episode = 1\n",
    "#foo.episode1()\n",
    "foo.__dict__['episode2']\n",
    "\n",
    "while episode is not None:\n",
    "    episode=episodeDict(episode)\n",
    "\n"
   ]
  },
  {
   "cell_type": "markdown",
   "metadata": {},
   "source": [
    "Back to trying to pass by reference..."
   ]
  },
  {
   "cell_type": "code",
   "execution_count": 28,
   "metadata": {
    "collapsed": false
   },
   "outputs": [
    {
     "name": "stdout",
     "output_type": "stream",
     "text": [
      "Welcome to Episode 1\n",
      "1\n",
      "Y/N: Y\n",
      "Welcome to Episode 1\n",
      "1\n",
      "Y/N: N\n",
      "Welcome to Episode 2\n",
      "2\n",
      "Y/N: Y\n",
      "Welcome to Episode 1\n",
      "1\n",
      "Y/N: N\n",
      "Welcome to Episode 2\n",
      "2\n",
      "Y/N: N\n",
      "Welcome to THE END\n",
      "3\n"
     ]
    }
   ],
   "source": [
    "def episode1():\n",
    "    print(\"Welcome to Episode 1\")\n",
    "    answer = None\n",
    "    while answer not in ['y','n']:\n",
    "        answer = input('Y/N: ').lower()\n",
    "        if answer == 'y':\n",
    "            return 1\n",
    "        elif answer == 'n':\n",
    "            return 2\n",
    "\n",
    "def episode2():\n",
    "    print(\"Welcome to Episode 2\")\n",
    "    answer = None\n",
    "    while answer not in ['y','n']:\n",
    "        answer = input('Y/N: ').lower()\n",
    "        if answer == 'y':\n",
    "            return 1\n",
    "        elif answer == 'n':\n",
    "            return 3\n",
    "\n",
    "def episode3():\n",
    "    print(\"Welcome to THE END\")\n",
    "    print(episode)\n",
    "\n",
    "episodeDict = {1:episode1,2:episode2,3:episode3}\n",
    "\n",
    "episode = 1\n",
    "\n",
    "while episode is not None:\n",
    "    episode=episodeDict[episode]()"
   ]
  },
  {
   "cell_type": "markdown",
   "metadata": {},
   "source": [
    "So, the problem before was that we were using () with the dictionary and we should have been using [ ].  [ ] would let us grab the item from the dictionary---now a reference to the function *and not the function itself*---and then use ( ) at the end of this to actually summon the function.\n",
    "\n",
    "This is the page that finally gave me an example that made it clear what the mistake was: https://www.daniweb.com/programming/software-development/threads/33559/dictionary-of-functions"
   ]
  },
  {
   "cell_type": "code",
   "execution_count": null,
   "metadata": {
    "collapsed": true
   },
   "outputs": [],
   "source": []
  }
 ],
 "metadata": {
  "kernelspec": {
   "display_name": "Python 3",
   "language": "python",
   "name": "python3"
  },
  "language_info": {
   "codemirror_mode": {
    "name": "ipython",
    "version": 3
   },
   "file_extension": ".py",
   "mimetype": "text/x-python",
   "name": "python",
   "nbconvert_exporter": "python",
   "pygments_lexer": "ipython3",
   "version": "3.5.1"
  }
 },
 "nbformat": 4,
 "nbformat_minor": 0
}
