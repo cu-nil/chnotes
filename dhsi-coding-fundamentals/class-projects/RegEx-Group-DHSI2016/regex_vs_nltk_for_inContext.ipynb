{
 "cells": [
  {
   "cell_type": "markdown",
   "metadata": {},
   "source": [
    "You want to do this with regex so let's start with doing that for one case so that you can see the steps.  I'll just drop some text from the novel in here to work with while you'll load it from a set of files.\n",
    "\n",
    "The regular expression that I'm using is:\n",
    "\n",
    "    (?:^|\\W)([Ss]?[Hh]e(\\s|\\b)(?:.+?(?:\\b|\\s)){0,10})\n",
    "    \n",
    "I built it using https://regex101.com/ (regexpal.com isn't cutting it any more and this site provides explanations *for what you type* (try it).  \n",
    "\n",
    "Let's walk through the regex:\n",
    "\n",
    "1. `(?:^|\\W)`:  This says that the string needs to either be at the start of the line *or* have a non-word character before it.  This prevents words with she/he from being inside them from being collected while still allowing she/he instances at the start of strings to be grabbed.  The `( )` make a group.  The `?:` stops the group from being a capturing group (we don't care about collecting these initial characters/makers). `^` is the code for the start of a string. `|` means \"or\". `\\W` means anything that isn't a word character (equivalent to `[^a-zA-Z0-9_]`).\n",
    "2. `([Ss]?[Hh]e\\s(?:.+?\\s){5})`:  The outer parentheses make this a capturing group, which is good, because this is what you want to grab.  I'll break each part down for you.\n",
    "3. `[Ss]?[Hh]e`: This will grab *either but not both* of a \"S\" or an \"s\" followed by *either or both* of a \"H\" or \"h\" followed by an \"e\" *OR* just ignore the s component (the `?` after the `[Ss]` means \"zero or one instance of the previous\").  This sets it up to grab the following:\n",
    "    \n",
    "    * She\n",
    "    * she\n",
    "    * He\n",
    "    * he\n",
    "    * SHe\n",
    "    Want more?  Well now you have something to work with. =)\n",
    "\n",
    "4. `(\\s|\\b)`: This says that the next component must be either a space or a word boundary.\n",
    "5. `(?:.+?(?:\\b|\\s)){0,10}`:  Again you see non-capturing groups here `(?:       )`, the outer most of and in this case it is repeated zero to five times via `{0,10}`.  `.+?` means to take any characters any number of times until the thing immediately after is found.  In this case it will collect characters until either a word boundary *or* a space is found.\n",
    "\n",
    "Now, this still doesn't grab everything you want.  For example.  \"He said 'She is awful.' She said 'He's a jerk.'\" will grab:\n",
    "\n",
    "    * He said 'She is awful.' She\n",
    "    * He's a jerk.\n",
    "\n",
    "Still, it does a pretty decent job.  So, let's see how to use it..."
   ]
  },
  {
   "cell_type": "code",
   "execution_count": null,
   "metadata": {
    "collapsed": false
   },
   "outputs": [],
   "source": [
    "# load the regular expression library\n",
    "import re \n",
    "\n",
    "# compile the regular expression for fast searches\n",
    "ourTest = re.compile('(?:^|\\W)([Ss]?[Hh]e(\\s|\\b)(?:.+?(?:\\b|\\s)){0,10})')\n",
    "\n",
    "#Load some text to work on.  Note the use of triple quotes to allow entering a string with line breaks as\n",
    "#part of the actual code.  Of course, you'll be reading from a file\n",
    "ourWords = \"\"\"She. was angry and wanted her due.\n",
    "She was wondering why the first line here wasn't being found in python but was in regex101.\n",
    "Oh well, something to tweak later.\n",
    "When he gave his promise to his father, he meditated within himself to increase the fortunes of his sisters by the present of a thousand\n",
    "pounds a-piece.  He then really thought himself equal to it.  The\n",
    "prospect of four thousand a-year, in addition to his present income,\n",
    "besides the remaining half of his own mother's fortune, warmed his\n",
    "heart, and made him feel capable of generosity.-- \"Yes, he would give \n",
    "them three thousand pounds: it would be liberal and handsome! It would\n",
    "be enough to make them completely easy.  Three thousand pounds! he\n",
    "could spare so considerable a sum with little inconvenience.\"-- He\n",
    "thought of it all day long, and for many days successively, and he did not repent at all ever.\n",
    "He said 'She is awful.' She said 'He's a jerk.'\"\"\"\n",
    "\n",
    "#Do the search and assign the output to a variable so we can make use of it.\n",
    "ourSearchResults = ourTest.findall(ourWords)\n",
    "\n",
    "#Let's see the results\n",
    "if ourSearchResults is not None:\n",
    "    for result in ourSearchResults:\n",
    "        # the [0] grabs the first item in the return value\n",
    "        print(result[0])\n",
    "\n",
    "#You'll note that there are line breaks here and some other errors.  Oh well, to be worked out later. =)"
   ]
  },
  {
   "cell_type": "markdown",
   "metadata": {},
   "source": [
    "Now let's see how to do it with the NLTK."
   ]
  },
  {
   "cell_type": "code",
   "execution_count": null,
   "metadata": {
    "collapsed": false
   },
   "outputs": [],
   "source": [
    "import nltk\n",
    "\n",
    "#Load some text to work on.  Note the use of triple quotes to allow entering a string with line breaks as\n",
    "#part of the actual code.  Of course, you'll be reading from a file\n",
    "ourWords = \"\"\"She. was angry and wanted her due.\n",
    "She was wondering why the first line here wasn't being found in python but was in regex101.\n",
    "Oh well, something to tweak later.\n",
    "When he gave his promise to his father, he meditated within himself to increase the fortunes of his sisters by the present of a thousand\n",
    "pounds a-piece.  He then really thought himself equal to it.  The\n",
    "prospect of four thousand a-year, in addition to his present income,\n",
    "besides the remaining half of his own mother's fortune, warmed his\n",
    "heart, and made him feel capable of generosity.-- \"Yes, he would give \n",
    "them three thousand pounds: it would be liberal and handsome! It would\n",
    "be enough to make them completely easy.  Three thousand pounds! he\n",
    "could spare so considerable a sum with little inconvenience.\"-- He\n",
    "thought of it all day long, and for many days successively, and he did not repent at all ever.\n",
    "He said 'She is awful.' She said 'He's a jerk.'\"\"\"\n",
    "\n",
    "tokens = nltk.word_tokenize(ourWords)\n",
    "text = nltk.Text(tokens)\n",
    "text.concordance('she')"
   ]
  },
  {
   "cell_type": "markdown",
   "metadata": {},
   "source": [
    "Ok, so this isn't complete and will require some fiddling but you'll note that it seems to be pretty straight forward.  The NLTK can work with RegEx as well.\n",
    "\n",
    "What you are not seeing is how long it took to work out that regular expression (about an hour!).  Use the tools that are available when they are available and save a lot of time. =)"
   ]
  }
 ],
 "metadata": {
  "kernelspec": {
   "display_name": "Python 3",
   "language": "python",
   "name": "python3"
  },
  "language_info": {
   "codemirror_mode": {
    "name": "ipython",
    "version": 3
   },
   "file_extension": ".py",
   "mimetype": "text/x-python",
   "name": "python",
   "nbconvert_exporter": "python",
   "pygments_lexer": "ipython3",
   "version": "3.5.1"
  }
 },
 "nbformat": 4,
 "nbformat_minor": 0
}
